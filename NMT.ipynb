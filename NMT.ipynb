{
  "nbformat": 4,
  "nbformat_minor": 0,
  "metadata": {
    "colab": {
      "provenance": [],
      "gpuType": "T4",
      "authorship_tag": "ABX9TyMGHYc+xc3tdsb1lotcttbW",
      "include_colab_link": true
    },
    "kernelspec": {
      "name": "python3",
      "display_name": "Python 3"
    },
    "language_info": {
      "name": "python"
    },
    "accelerator": "GPU"
  },
  "cells": [
    {
      "cell_type": "markdown",
      "metadata": {
        "id": "view-in-github",
        "colab_type": "text"
      },
      "source": [
        "<a href=\"https://colab.research.google.com/github/samyxandz/NMT-English-To-Portugeese/blob/main/NMT.ipynb\" target=\"_parent\"><img src=\"https://colab.research.google.com/assets/colab-badge.svg\" alt=\"Open In Colab\"/></a>"
      ]
    },
    {
      "cell_type": "markdown",
      "source": [
        "# Neural Machine Translation\n",
        "\n",
        "English-to-Portuguese neural machine translation (NMT) model using Long Short-Term Memory (LSTM) networks with attention.\n",
        "\n",
        "Implementing this using just a Recurrent Neural Network (RNN) with LSTMs can work for short to medium length sentences but can result in vanishing gradients for very long sequences. To help with this, we will be adding an attention mechanism to allow the decoder to access all relevant parts of the input sentence regardless of its length.\n",
        "\n",
        "\n",
        "## Following are the main steps in the program:\n",
        "- Implement an encoder-decoder system with attention\n",
        "- Build the NMT model from scratch using Tensorflow\n",
        "- Generate translations using greedy and Minimum Bayes Risk (MBR) decoding\n"
      ],
      "metadata": {
        "id": "Xe27ka84i-BZ"
      }
    },
    {
      "cell_type": "markdown",
      "source": [
        "#### Importing the required libraries"
      ],
      "metadata": {
        "id": "NjstUDShFoDZ"
      }
    },
    {
      "cell_type": "code",
      "source": [
        "!pip install numpy tensorflow tensorflow_text"
      ],
      "metadata": {
        "id": "tWqWXZI8FmCq"
      },
      "execution_count": null,
      "outputs": []
    },
    {
      "cell_type": "code",
      "execution_count": null,
      "metadata": {
        "id": "ah7Sj-96iSk_"
      },
      "outputs": [],
      "source": [
        "import numpy as np\n",
        "import tensorflow as tf\n",
        "import tensorflow_text as tf_text\n",
        "import pathlib\n",
        "\n",
        "\n",
        "from collections import Counter\n"
      ]
    },
    {
      "cell_type": "code",
      "source": [
        "import os\n",
        "os.environ['TF_CPP_MIN_LOG_LEVEL'] = '3'\n",
        "\n",
        "path_to_file = pathlib.Path(\"por-eng/por.txt\")#/content/por-eng/por.txt"
      ],
      "metadata": {
        "id": "86eLcM_0H0HN"
      },
      "execution_count": null,
      "outputs": []
    },
    {
      "cell_type": "code",
      "source": [
        "np.random.seed(1234)\n",
        "tf.random.set_seed(1234)"
      ],
      "metadata": {
        "id": "hEBr1Lpi3c5p"
      },
      "execution_count": null,
      "outputs": []
    },
    {
      "cell_type": "markdown",
      "source": [
        "#### Adding helper functions\n"
      ],
      "metadata": {
        "id": "of5Q2gX6JntH"
      }
    },
    {
      "cell_type": "code",
      "source": [
        "\n",
        "def load_data(path):\n",
        "    text = path.read_text(encoding=\"utf-8\")\n",
        "\n",
        "    lines = text.splitlines()\n",
        "    pairs = [line.split(\"\\t\") for line in lines]\n",
        "\n",
        "    context = np.array([context for target, context, _ in pairs])\n",
        "    target = np.array([target for target, context, _ in pairs])\n",
        "\n",
        "    return context, target\n"
      ],
      "metadata": {
        "id": "cICUk0koICB5"
      },
      "execution_count": null,
      "outputs": []
    },
    {
      "cell_type": "code",
      "source": [
        "portuguese_sentences, english_sentences = load_data(path_to_file)\n",
        "sentences = (portuguese_sentences, english_sentences)"
      ],
      "metadata": {
        "id": "hNCewP1Ne7S5"
      },
      "execution_count": null,
      "outputs": []
    },
    {
      "cell_type": "markdown",
      "source": [
        "## Data Processing wrapper functions"
      ],
      "metadata": {
        "id": "K7SeJc5F-qky"
      }
    },
    {
      "cell_type": "markdown",
      "source": [
        "##### Dividing into batches"
      ],
      "metadata": {
        "id": "DN8gWJAbqTCK"
      }
    },
    {
      "cell_type": "code",
      "source": [
        "BUFFER_SIZE = len(english_sentences)\n",
        "BATCH_SIZE = 64\n",
        "is_train = np.random.uniform(size=(len(portuguese_sentences),)) < 0.8\n",
        "\n",
        "train_raw = (\n",
        "    tf.data.Dataset.from_tensor_slices(\n",
        "        (english_sentences[is_train], portuguese_sentences[is_train])\n",
        "    )\n",
        "    .shuffle(BUFFER_SIZE)\n",
        "    .batch(BATCH_SIZE)\n",
        ")\n",
        "val_raw = (\n",
        "    tf.data.Dataset.from_tensor_slices(\n",
        "        (english_sentences[~is_train], portuguese_sentences[~is_train])\n",
        "    )\n",
        "    .shuffle(BUFFER_SIZE)\n",
        "    .batch(BATCH_SIZE)\n",
        ")"
      ],
      "metadata": {
        "id": "Hs_KDEe7qEnc"
      },
      "execution_count": null,
      "outputs": []
    },
    {
      "cell_type": "markdown",
      "source": [
        "#### Normalising the Text"
      ],
      "metadata": {
        "id": "7Bvv8Cyk3cpi"
      }
    },
    {
      "cell_type": "code",
      "source": [
        "def tf_lower_and_split_punct(text):\n",
        "    text = tf_text.normalize_utf8(text, \"NFKD\")\n",
        "    text = tf.strings.lower(text)\n",
        "    text = tf.strings.regex_replace(text, \"[^ a-z.?!,¿]\", \"\")\n",
        "    text = tf.strings.regex_replace(text, \"[.?!,¿]\", r\" \\0 \")\n",
        "    text = tf.strings.strip(text)\n",
        "    text = tf.strings.join([\"[SOS]\", text, \"[EOS]\"], separator=\" \")\n",
        "    return text"
      ],
      "metadata": {
        "id": "MaeQZfU65HPF"
      },
      "execution_count": null,
      "outputs": []
    },
    {
      "cell_type": "code",
      "source": [
        "max_vocab_size = 12000"
      ],
      "metadata": {
        "id": "YiF7ioVC50Rf"
      },
      "execution_count": null,
      "outputs": []
    },
    {
      "cell_type": "markdown",
      "source": [
        "####Vectorizing the Sentences"
      ],
      "metadata": {
        "id": "3Iia4Wtt50D0"
      }
    },
    {
      "cell_type": "code",
      "source": [
        "english_vectorizer = tf.keras.layers.TextVectorization(standardize=tf_lower_and_split_punct, max_tokens=max_vocab_size, ragged=True)\n",
        "english_vectorizer.adapt(train_raw.map(lambda context, target: context))\n",
        "\n",
        "portuguese_vectorizer = tf.keras.layers.TextVectorization(standardize=tf_lower_and_split_punct, max_tokens=max_vocab_size, ragged=True)\n",
        "portuguese_vectorizer.adapt(train_raw.map(lambda context, target: target))"
      ],
      "metadata": {
        "id": "I0z1GNdq6iGl"
      },
      "execution_count": null,
      "outputs": []
    },
    {
      "cell_type": "markdown",
      "source": [
        "\n",
        "#### Text Processor wrapper"
      ],
      "metadata": {
        "id": "axDE_0GT8j5J"
      }
    },
    {
      "cell_type": "code",
      "source": [
        "def process_text(context, target):\n",
        "    context = english_vectorizer(context).to_tensor()\n",
        "    target = portuguese_vectorizer(target)\n",
        "    targ_in = target[:, :-1].to_tensor()\n",
        "    targ_out = target[:, 1:].to_tensor()\n",
        "    return (context, targ_in), targ_out"
      ],
      "metadata": {
        "id": "q3hQPtlU8jri"
      },
      "execution_count": null,
      "outputs": []
    },
    {
      "cell_type": "markdown",
      "source": [
        "## Data Preparation\n",
        "\n",
        "checking the above functions"
      ],
      "metadata": {
        "id": "_rGZ1POUmQpR"
      }
    },
    {
      "cell_type": "markdown",
      "source": [
        "checking out the above functions"
      ],
      "metadata": {
        "id": "RwyohhRz_hci"
      }
    },
    {
      "cell_type": "code",
      "source": [
        "\n",
        "print(f\"English (to translate) sentence:\\n\\n{english_sentences[-5]}\\n\")\n",
        "print(f\"Portuguese (translation) sentence:\\n\\n{portuguese_sentences[-5]}\")"
      ],
      "metadata": {
        "id": "tLnB67aq_Pyf"
      },
      "execution_count": null,
      "outputs": []
    },
    {
      "cell_type": "code",
      "source": [
        "print(f\"First 10 words of the english vocabulary:\\n\\n{english_vectorizer.get_vocabulary()[:10]}\\n\")\n",
        "print(f\"First 10 words of the portuguese vocabulary:\\n\\n{portuguese_vectorizer.get_vocabulary()[:10]}\")"
      ],
      "metadata": {
        "id": "7xdV5sBH_ljz"
      },
      "execution_count": null,
      "outputs": []
    },
    {
      "cell_type": "code",
      "source": [
        "vocab_size = portuguese_vectorizer.vocabulary_size()"
      ],
      "metadata": {
        "id": "Io0G48_R_84E"
      },
      "execution_count": null,
      "outputs": []
    },
    {
      "cell_type": "markdown",
      "source": [
        " Using [tf.keras.layers.StringLookup](https://www.tensorflow.org/api_docs/python/tf/keras/layers/StringLookup) objects help map from words to ids and vice versa."
      ],
      "metadata": {
        "id": "bCWzyLu6ABqf"
      }
    },
    {
      "cell_type": "code",
      "source": [
        "word_to_id = tf.keras.layers.StringLookup(\n",
        "    vocabulary=portuguese_vectorizer.get_vocabulary(),\n",
        "    mask_token=\"\",\n",
        "    oov_token=\"[UNK]\"\n",
        ")\n",
        "\n",
        "\n",
        "id_to_word = tf.keras.layers.StringLookup(\n",
        "    vocabulary=portuguese_vectorizer.get_vocabulary(),\n",
        "    mask_token=\"\",\n",
        "    oov_token=\"[UNK]\",\n",
        "    invert=True,\n",
        ")"
      ],
      "metadata": {
        "id": "tNCjQQJk_9zr"
      },
      "execution_count": null,
      "outputs": []
    },
    {
      "cell_type": "markdown",
      "source": [
        "# NMT model with attention\n",
        "\n",
        "\n",
        "*   The model you will build uses an encoder-decoder architecture.\n"
      ],
      "metadata": {
        "id": "poe3tcdqBqBw"
      }
    },
    {
      "cell_type": "markdown",
      "source": [
        "\n",
        "\n",
        "This **Recurrent Neural Network (RNN)** takes in a tokenized version of a sentence in its *encoder*, then passes it on to the *decoder* for translation.\n",
        "\n",
        "You can picture it like the figure below where all of the context of the input sentence **is compressed into one vector** that is passed into the decoder block.\n",
        "You can see how this will be an issue for very long sentences (e.g. 100 tokens or more) because the context of the first parts of the input will have very little effect on the final vector passed to the decoder.\n",
        "\n",
        "<img src='/images/plain_rnn.png'>\n",
        "\n",
        "\n",
        "Adding an **attention layer** to this model avoids this problem by giving the decoder access to all parts of the input sentence.\n",
        "\n",
        "To illustrate, let's just use a 4-word input sentence as shown below. Remember that a hidden state is produced at each timestep of the encoder (represented by the orange rectangles). These are all passed to the attention layer and each are given a score given the current activation (i.e. hidden state) of the decoder. For instance, let's consider the figure below where the first prediction \"como\" is already made. To produce the next prediction, the attention layer will first receive all the encoder hidden states (i.e. orange rectangles) as well as the decoder hidden state when producing the word \"como\" (i.e. first green rectangle). Given this information, it will score each of the encoder hidden states to know which one the decoder should focus on to produce the next word. As a result of training, the model might have learned that it should align to the second encoder hidden state and subsequently assigns a high probability to the word \"você\". If we are using greedy decoding, we will output the said word as the next symbol, then restart the process to produce the next word until we reach an end-of-sentence prediction.\n",
        "<img src='images/attention_overview.png'>\n",
        "\n",
        "\n",
        "There are different ways to implement attention and the one we'll use for this assignment is the Scaled Dot Product Attention which has the form:\n",
        "\n",
        "$$Attention(Q, K, V) = softmax(\\frac{QK^T}{\\sqrt{d_k}})V$$\n",
        "\n",
        "You will dive deeper into this equation in the next week but for now, you can think of it as computing scores using queries (Q) and keys (K), followed by a multiplication of values (V) to get a context vector at a particular timestep of the decoder. This context vector is fed to the decoder RNN to get a set of probabilities for the next predicted word. The division by square root of the keys dimensionality ($\\sqrt{d_k}$) is for improving model performance and you'll also learn more about it next week. For our machine translation application, the encoder activations (i.e. encoder hidden states) will be the keys and values, while the decoder activations (i.e. decoder hidden states) will be the queries.\n",
        "\n",
        "You will see in the upcoming sections that this complex architecture and mechanism can be implemented with just a few lines of code.\n",
        "\n",
        "First you will define two important global variables:\n",
        "\n",
        "- The size of the vocabulary\n",
        "- The number of units in the LSTM layers (the same number will be used for all LSTM layers)"
      ],
      "metadata": {
        "id": "nCEs2A0xteM9"
      }
    },
    {
      "cell_type": "code",
      "source": [
        "VOCAB_SIZE = 12000\n",
        "UNITS = 256"
      ],
      "metadata": {
        "id": "mHX7-DczXg-S"
      },
      "execution_count": null,
      "outputs": []
    },
    {
      "cell_type": "markdown",
      "source": [
        "## Encoder\n",
        "Making a c**ustom Encoder Layer**\n",
        "\n",
        "The encoder consists of the following layers:\n",
        "\n",
        "- [Embedding](https://www.tensorflow.org/api_docs/python/tf/keras/layers/Embedding)\n",
        "    \n",
        "+ [Bidirectional](https://www.tensorflow.org/api_docs/python/tf/keras/layers/Bidirectional) [LSTM](https://www.tensorflow.org/api_docs/python/tf/keras/layers/LSTM): bidirectional behaviour for RNN-like layers.   \n",
        "  \n"
      ],
      "metadata": {
        "id": "s4HWBqI5dz5s"
      }
    },
    {
      "cell_type": "code",
      "source": [
        "class Encoder(tf.keras.layers.Layer):\n",
        "    def __init__(self, vocab_size, units):\n",
        "        super(Encoder, self).__init__()\n",
        "\n",
        "        self.embedding = tf.keras.layers.Embedding(\n",
        "            input_dim=vocab_size,\n",
        "            output_dim=units,\n",
        "            mask_zero=True\n",
        "        )\n",
        "\n",
        "        self.rnn = tf.keras.layers.Bidirectional(\n",
        "            merge_mode=\"sum\",\n",
        "            layer=tf.keras.layers.LSTM(\n",
        "                units=units,\n",
        "                return_sequences=True\n",
        "            ),\n",
        "        )\n",
        "\n",
        "\n",
        "    def call(self, context):\n",
        "\n",
        "        x = self.embedding(context)\n",
        "        x = self.rnn(x)\n",
        "\n",
        "        return x"
      ],
      "metadata": {
        "id": "XqHw-TlJefWH"
      },
      "execution_count": null,
      "outputs": []
    },
    {
      "cell_type": "markdown",
      "source": [
        "## Cross Attention"
      ],
      "metadata": {
        "id": "LWwaGh-qtQVH"
      }
    },
    {
      "cell_type": "markdown",
      "source": [
        "Your next exercise is to code the layer that will perform cross attention between the original sentences and the translations. For this, complete the `CrossAttention` class below. Notice that in the constructor (the `__init__` method) you need to define all of the sublayers and then use these sublayers during the forward pass (the `call` method). For this particular case some of these bits are already taken care of.\n",
        "\n",
        "The cross attention consists of the following layers:\n",
        "\n",
        "- [MultiHeadAttention](https://www.tensorflow.org/api_docs/python/tf/keras/layers/MultiHeadAttention). For this layer you need to define the appropriate `key_dim`, which is the size of the key and query tensors. You will also need to set the number of heads to 1 since you aren't implementing multi head attention but attention between two tensors. The reason why this layer is preferred over [Attention](https://www.tensorflow.org/api_docs/python/tf/keras/layers/Attention) is that it allows simpler code during the forward pass.\n",
        "    \n",
        "A couple of things to notice:\n",
        "- You need a way to pass both the output of the attention alongside the shifted-to-the-right translation (since this cross attention happens in the decoder side). For this you will use an [Add](https://www.tensorflow.org/api_docs/python/tf/keras/layers/Add) layer so that the original dimension is preserved, which would not happen if you use something like a [Concatenate](https://www.tensorflow.org/api_docs/python/tf/keras/layers/Concatenate) layer.\n",
        "\n",
        "+ Layer normalization is also performed for better stability of the network by using a [LayerNormalization](https://www.tensorflow.org/api_docs/python/tf/keras/layers/LayerNormalization) layer.\n",
        "\n",
        "- You don't need to worry about these last steps as these are already solved.\n"
      ],
      "metadata": {
        "id": "VYTDZV0Kx9Yv"
      }
    },
    {
      "cell_type": "code",
      "source": [
        "# GRADED CLASS: CrossAttention\n",
        "class CrossAttention(tf.keras.layers.Layer):\n",
        "    def __init__(self, units):\n",
        "        super().__init__()\n",
        "        self.mha = (\n",
        "            tf.keras.layers.MultiHeadAttention(\n",
        "                key_dim=units,\n",
        "                num_heads=1\n",
        "            )\n",
        "        )\n",
        "\n",
        "        self.layernorm = tf.keras.layers.LayerNormalization()\n",
        "        self.add = tf.keras.layers.Add()\n",
        "\n",
        "    def call(self, context, target):\n",
        "        attn_output = self.mha(\n",
        "            query=target,\n",
        "            value=context\n",
        "        )\n",
        "\n",
        "        x = self.add([target, attn_output])\n",
        "        x = self.layernorm(x)\n",
        "\n",
        "        return x"
      ],
      "metadata": {
        "id": "FCRDxqHRx9I8"
      },
      "execution_count": null,
      "outputs": []
    },
    {
      "cell_type": "markdown",
      "source": [
        "## Decoder\n"
      ],
      "metadata": {
        "id": "dS_av7t-1UBB"
      }
    },
    {
      "cell_type": "markdown",
      "source": [
        "\n",
        "\n",
        "Now you will implement the decoder part of the neural network by completing the `Decoder` class below. Notice that in the constructor (the `__init__` method) you need to define all of the sublayers of the decoder and then use these sublayers during the forward pass (the `call` method).\n",
        "\n",
        "The decoder consists of the following layers:\n",
        "\n",
        "- [Embedding](https://www.tensorflow.org/api_docs/python/tf/keras/layers/Embedding). For this layer you need to define the appropriate `input_dim` and `output_dim` and let it know that you are using '0' as padding, which can be done by using the appropriate value for the `mask_zero` parameter.\n",
        "  \n",
        "  \n",
        "+ Pre-attention [LSTM](https://www.tensorflow.org/api_docs/python/tf/keras/layers/LSTM). Unlike in the encoder in which you used a Bidirectional LSTM, here you will use a vanilla LSTM. Don't forget to set the appropriate number of units and make sure that the LSTM returns the full sequence and not only the last output, which can be done by using the appropriate value for the `return_sequences` parameter. It is very important that this layer returns the state since this will be needed for inference so make sure to set the `return_state` parameter accordingly. Notice that LSTM layers return state as a tuple of two tensors called `memory_state` and `carry_state`, **however these names have been changed to better reflect what you have seen in the lectures to `hidden_state` and `cell_state` respectively**.\n",
        "\n",
        "- The attention layer that performs cross attention between the sentence to translate and the right-shifted translation. Here you need to use the `CrossAttention` layer you defined in the previous exercise.\n",
        "\n",
        "+ Post-attention [LSTM](https://www.tensorflow.org/api_docs/python/tf/keras/layers/LSTM). Another LSTM layer. For this one you don't need it to return the state.\n",
        "\n",
        "- Finally a [Dense](https://www.tensorflow.org/api_docs/python/tf/keras/layers/Dense) layer. This one should have the same number of units as the size of the vocabulary since you expect it to compute the logits for every possible word in the vocabulary. Make sure to use a `logsoftmax` activation function for this one, which you can get as [tf.nn.log_softmax](https://www.tensorflow.org/api_docs/python/tf/nn/log_softmax).\n"
      ],
      "metadata": {
        "id": "yr697eR_yK9V"
      }
    },
    {
      "cell_type": "code",
      "source": [
        "class Decoder(tf.keras.layers.Layer):\n",
        "    def __init__(self, vocab_size, units):\n",
        "        super(Decoder, self).__init__()\n",
        "        self.embedding =tf.keras.layers.Embedding(\n",
        "            input_dim=vocab_size,\n",
        "            output_dim=units,\n",
        "            mask_zero=True\n",
        "        )\n",
        "        # The RNN before attention\n",
        "        self.pre_attention_rnn = tf.keras.layers.LSTM(\n",
        "            units=units,\n",
        "            return_sequences=True,\n",
        "            return_state=True\n",
        "        )\n",
        "        self.attention = CrossAttention(units=units)\n",
        "\n",
        "        # The RNN after attention\n",
        "        self.post_attention_rnn = tf.keras.layers.LSTM(\n",
        "            units=units,\n",
        "            return_sequences=True\n",
        "        )\n",
        "\n",
        "        # The dense layer with logsoftmax activation\n",
        "        self.output_layer = tf.keras.layers.Dense(\n",
        "            units=vocab_size,\n",
        "            activation=tf.nn.log_softmax\n",
        "        )\n",
        "\n",
        "        ### END CODE HERE ###\n",
        "\n",
        "    def call(self, context, target, state=None, return_state=False):\n",
        "        x = self.embedding(target)\n",
        "\n",
        "        # Pass the embedded input into the pre attention LSTM\n",
        "        # Hints:\n",
        "        # - The LSTM you defined earlier should return the output alongside the state (made up of two tensors)\n",
        "        # - Pass in the state to the LSTM (needed for inference)\n",
        "        x, hidden_state, cell_state = self.pre_attention_rnn(x, initial_state=state)\n",
        "\n",
        "\n",
        "        # Perform cross attention between the context and the output of the LSTM (in that order)\n",
        "        x = self.attention(context, x)\n",
        "\n",
        "        # Do a pass through the post attention LSTM\n",
        "        x = self.post_attention_rnn(x)\n",
        "\n",
        "        # Compute the logits\n",
        "        logits = self.output_layer(x)\n",
        "\n",
        "        ### END CODE HERE ###\n",
        "\n",
        "        if return_state:\n",
        "            return logits, [hidden_state, cell_state]\n",
        "\n",
        "        return logits"
      ],
      "metadata": {
        "id": "0qTTBoCMyLK7"
      },
      "execution_count": null,
      "outputs": []
    },
    {
      "cell_type": "markdown",
      "source": [
        "## Translator\n",
        "\n",
        "Now you have to put together all of the layers you previously coded into an actual model. For this, complete the `Translator` class below. Notice how unlike the Encoder and Decoder classes inherited from `tf.keras.layers.Layer`, the Translator class inherits from `tf.keras.layers.Model`.\n",
        "\n",
        "Remember that `train_data` will yield a tuple with the sentence to translate and the shifted-to-the-right translation, which are the \"features\" of the model. This means that the inputs of your network will be tuples containing context and targets."
      ],
      "metadata": {
        "id": "7ZfTBlHC3aUf"
      }
    },
    {
      "cell_type": "code",
      "source": [
        "# GRADED CLASS: Translator\n",
        "class Translator(tf.keras.Model):\n",
        "    def __init__(self, vocab_size, units):\n",
        "        \"\"\"Initializes an instance of this class\n",
        "\n",
        "        Args:\n",
        "            vocab_size (int): Size of the vocabulary\n",
        "            units (int): Number of units in the LSTM layer\n",
        "        \"\"\"\n",
        "        super().__init__()\n",
        "\n",
        "        ### START CODE HERE ###\n",
        "        # Define the encoder with the appropriate vocab_size and number of units\n",
        "        self.encoder = Encoder(vocab_size=vocab_size, units=units)\n",
        "\n",
        "        # Define the decoder with the appropriate vocab_size, units, cross_attention_units, and num_heads\n",
        "        self.decoder = Decoder(vocab_size=vocab_size, units=units)\n",
        "\n",
        "\n",
        "        ### END CODE HERE ###\n",
        "\n",
        "    def call(self, inputs):\n",
        "        \"\"\"Forward pass of this layer\n",
        "\n",
        "        Args:\n",
        "            inputs (tuple(tf.Tensor, tf.Tensor)): Tuple containing the context (sentence to translate) and the target (shifted-to-the-right translation)\n",
        "\n",
        "        Returns:\n",
        "            tf.Tensor: The log_softmax probabilities of predicting a particular token\n",
        "        \"\"\"\n",
        "\n",
        "        ### START CODE HERE ###\n",
        "\n",
        "        # In this case inputs is a tuple consisting of the context and the target, unpack it into single variables\n",
        "        context, target = inputs\n",
        "\n",
        "        # Pass the context through the encoder\n",
        "        encoded_context= self.encoder(context)\n",
        "\n",
        "        # Compute the logits by passing the encoded context and the target to the decoder\n",
        "        logits = self.decoder(encoded_context,target)\n",
        "        ### END CODE HERE ###\n",
        "\n",
        "        return logits"
      ],
      "metadata": {
        "id": "qExxKmWg3mgM"
      },
      "execution_count": null,
      "outputs": []
    },
    {
      "cell_type": "markdown",
      "source": [
        "## Training"
      ],
      "metadata": {
        "id": "XlQa-uBR80EY"
      }
    },
    {
      "cell_type": "code",
      "source": [
        "def compile_and_train(model, epochs=20, steps_per_epoch=500):\n",
        "    model.compile(optimizer=\"adam\", loss=masked_loss, metrics=[masked_acc, masked_loss])\n",
        "\n",
        "    history = model.fit(\n",
        "        train_data.repeat(),\n",
        "        epochs=epochs,\n",
        "        steps_per_epoch=steps_per_epoch,\n",
        "        validation_data=val_data,\n",
        "        validation_steps=50,\n",
        "        callbacks=[tf.keras.callbacks.EarlyStopping(patience=3)],\n",
        "    )\n",
        "\n",
        "    return model, history"
      ],
      "metadata": {
        "id": "rsn7AQnX9pyJ"
      },
      "execution_count": null,
      "outputs": []
    },
    {
      "cell_type": "code",
      "source": [
        "trained_translator, history = compile_and_train(translator)"
      ],
      "metadata": {
        "id": "ox4XKJEe9zMA"
      },
      "execution_count": null,
      "outputs": []
    },
    {
      "cell_type": "markdown",
      "source": [
        "## Model Inference"
      ],
      "metadata": {
        "id": "kyimttWj97fK"
      }
    },
    {
      "cell_type": "markdown",
      "source": [
        "\n",
        "Now that your model is trained you can use it for inference. To help you with this the `generate_next_token` function is provided. Notice that this function is meant to be used inside a for-loop, so you feed to it the information of the previous step to generate the information of the next step. In particular you need to keep track of the state of the pre-attention LSTM in the decoder and if you are done with the translation. Also notice that a `temperature` variable is introduced which determines how to select the next token given the predicted logits:  "
      ],
      "metadata": {
        "id": "zvdCjl5i-AZ3"
      }
    },
    {
      "cell_type": "code",
      "source": [
        "def generate_next_token(decoder, context, next_token, done, state, temperature=0.0):\n",
        "    \"\"\"Generates the next token in the sequence\n",
        "\n",
        "    Args:\n",
        "        decoder (Decoder): The decoder\n",
        "        context (tf.Tensor): Encoded sentence to translate\n",
        "        next_token (tf.Tensor): The predicted next token\n",
        "        done (bool): True if the translation is complete\n",
        "        state (list[tf.Tensor, tf.Tensor]): Hidden states of the pre-attention LSTM layer\n",
        "        temperature (float, optional): The temperature that controls the randomness of the predicted tokens. Defaults to 0.0.\n",
        "\n",
        "    Returns:\n",
        "        tuple(tf.Tensor, np.float, list[tf.Tensor, tf.Tensor], bool): The next token, log prob of said token, hidden state of LSTM and if translation is done\n",
        "    \"\"\"\n",
        "    # Get the logits and state from the decoder\n",
        "    logits, state = decoder(context, next_token, state=state, return_state=True)\n",
        "\n",
        "    # Trim the intermediate dimension\n",
        "    logits = logits[:, -1, :]\n",
        "\n",
        "    # If temp is 0 then next_token is the argmax of logits\n",
        "    if temperature == 0.0:\n",
        "        next_token = tf.argmax(logits, axis=-1)\n",
        "\n",
        "    # If temp is not 0 then next_token is sampled out of logits\n",
        "    else:\n",
        "        logits = logits / temperature\n",
        "        next_token = tf.random.categorical(logits, num_samples=1)\n",
        "\n",
        "    # Trim dimensions of size 1\n",
        "    logits = tf.squeeze(logits)\n",
        "    next_token = tf.squeeze(next_token)\n",
        "\n",
        "    # Get the logit of the selected next_token\n",
        "    logit = logits[next_token].numpy()\n",
        "\n",
        "    # Reshape to (1,1) since this is the expected shape for text encoded as TF tensors\n",
        "    next_token = tf.reshape(next_token, shape=(1,1))\n",
        "\n",
        "    # If next_token is End-of-Sentence token you are done\n",
        "    if next_token == eos_id:\n",
        "        done = True\n",
        "\n",
        "    return next_token, logit, state, done"
      ],
      "metadata": {
        "id": "JJkyNHqs-KsU"
      },
      "execution_count": null,
      "outputs": []
    },
    {
      "cell_type": "code",
      "source": [
        "# PROCESS SENTENCE TO TRANSLATE AND ENCODE\n",
        "\n",
        "# A sentence you wish to translate\n",
        "eng_sentence = \"I love languages\"\n",
        "\n",
        "# Convert it to a tensor\n",
        "texts = tf.convert_to_tensor(eng_sentence)[tf.newaxis]\n",
        "\n",
        "# Vectorize it and pass it through the encoder\n",
        "context = english_vectorizer(texts).to_tensor()\n",
        "context = encoder(context)\n",
        "\n",
        "# SET STATE OF THE DECODER\n",
        "\n",
        "# Next token is Start-of-Sentence since you are starting fresh\n",
        "next_token = tf.fill((1,1), sos_id)\n",
        "\n",
        "# Hidden and Cell states of the LSTM can be mocked using uniform samples\n",
        "state = [tf.random.uniform((1, UNITS)), tf.random.uniform((1, UNITS))]\n",
        "\n",
        "# You are not done until next token is EOS token\n",
        "done = False\n",
        "\n",
        "# Generate next token\n",
        "next_token, logit, state, done = generate_next_token(decoder, context, next_token, done, state, temperature=0.5)\n",
        "print(f\"Next token: {next_token}\\nLogit: {logit:.4f}\\nDone? {done}\")"
      ],
      "metadata": {
        "id": "qQCrWzSK-RAp"
      },
      "execution_count": null,
      "outputs": []
    },
    {
      "cell_type": "markdown",
      "source": [
        "## Translation"
      ],
      "metadata": {
        "id": "CYZePA90-ZnM"
      }
    },
    {
      "cell_type": "markdown",
      "source": [
        "Now you can put everything together to translate a given sentence. For this, complete the `translate` function below. This function will take care of the following steps:\n",
        "- Process the sentence to translate and encode it\n",
        "\n",
        "+ Set the initial state of the decoder\n",
        "\n",
        "- Get predictions of the next token (starting with the \\<SOS> token) for a maximum of iterations (in case the \\<EOS> token is never returned)\n",
        "    \n",
        "+ Return the translated text (as a string), the logit of the last iteration (this helps measure how certain was that the sequence was translated in its totality) and the translation in token format.\n",
        "\n",
        "\n",
        "Hints:\n",
        "\n",
        "- The previous cell provides a lot of insights on how this function should work, so if you get stuck refer to it.\n",
        "\n",
        "+ Some useful docs:\n",
        "    + [tf.newaxis](https://www.tensorflow.org/api_docs/python/tf#newaxis)\n",
        "\n",
        "    - [tf.fill](https://www.tensorflow.org/api_docs/python/tf/fill)\n",
        "\n",
        "    + [tf.zeros](https://www.tensorflow.org/api_docs/python/tf/zeros)"
      ],
      "metadata": {
        "id": "ge-a2vse-d7o"
      }
    },
    {
      "cell_type": "code",
      "source": [
        "# GRADED FUNCTION: translate\n",
        "def translate(model, text, max_length=50, temperature=0.0):\n",
        "    \"\"\"Translate a given sentence from English to Portuguese\n",
        "\n",
        "    Args:\n",
        "        model (tf.keras.Model): The trained translator\n",
        "        text (string): The sentence to translate\n",
        "        max_length (int, optional): The maximum length of the translation. Defaults to 50.\n",
        "        temperature (float, optional): The temperature that controls the randomness of the predicted tokens. Defaults to 0.0.\n",
        "\n",
        "    Returns:\n",
        "        tuple(str, np.float, tf.Tensor): The translation, logit that predicted <EOS> token and the tokenized translation\n",
        "    \"\"\"\n",
        "    # Lists to save tokens and logits\n",
        "    tokens, logits = [], []\n",
        "\n",
        "    ### START CODE HERE ###\n",
        "\n",
        "    # PROCESS THE SENTENCE TO TRANSLATE\n",
        "\n",
        "    # Convert the original string into a tensor\n",
        "    text = tf.constant([text])\n",
        "    # Vectorize the text using the correct vectorizer\n",
        "    context = english_vectorizer(text).to_tensor()\n",
        "\n",
        "    # Get the encoded context (pass the context through the encoder)\n",
        "    # Hint: Remember you can get the encoder by using model.encoder\n",
        "    context = model.encoder(context)\n",
        "\n",
        "    # INITIAL STATE OF THE DECODER\n",
        "\n",
        "    # First token should be SOS token with shape (1,1)\n",
        "    next_token = tf.constant([[2]])\n",
        "\n",
        "    # Initial hidden and cell states should be tensors of zeros with shape (1, UNITS)\n",
        "    state = [tf.zeros((1,UNITS)), tf.zeros((1,UNITS))]\n",
        "\n",
        "    # You are done when you draw a EOS token as next token (initial state is False)\n",
        "    done = False\n",
        "\n",
        "    # Iterate for max_length iterations\n",
        "    for _ in range(max_length):\n",
        "\n",
        "    # Generate the next token\n",
        "        next_token, logit, state, done =generate_next_token(decoder, context, next_token, done, state, temperature=0.5)\n",
        "        # If done then break out of the loop\n",
        "        if done:\n",
        "            break\n",
        "\n",
        "    # Add next_token to the list of tokens\n",
        "    tokens.append(next_token)\n",
        "\n",
        "    # Add logit to the list of logits\n",
        "    logits.append(logit)\n",
        "    ### END CODE HERE ###\n",
        "\n",
        "    # Concatenate all tokens into a tensor\n",
        "    tokens = tf.concat(tokens, axis=-1)\n",
        "\n",
        "    # Convert the translated tokens into text\n",
        "    translation = tf.squeeze(tokens_to_text(tokens, id_to_word))\n",
        "    translation = translation.numpy().decode()\n",
        "\n",
        "    return translation, logits[-1], tokens"
      ],
      "metadata": {
        "id": "WE8EpVK8-iMq"
      },
      "execution_count": null,
      "outputs": []
    },
    {
      "cell_type": "code",
      "source": [
        "# Running this cell multiple times should return the same output since temp is 0\n",
        "\n",
        "temp = 0.0\n",
        "original_sentence = \"I love languages\"\n",
        "\n",
        "translation, logit, tokens = translate(trained_translator, original_sentence, temperature=temp)\n",
        "\n",
        "print(f\"Temperature: {temp}\\n\\nOriginal sentence: {original_sentence}\\nTranslation: {translation}\\nTranslation tokens:{tokens}\\nLogit: {logit:.3f}\")"
      ],
      "metadata": {
        "id": "LI8svx4l_aky"
      },
      "execution_count": null,
      "outputs": []
    },
    {
      "cell_type": "markdown",
      "source": [
        "<a name=\"5\"></a>\n",
        "## 5. Minimum Bayes-Risk Decoding\n",
        "\n",
        "As mentioned in the lectures, getting the most probable token at each step may not necessarily produce the best results. Another approach is to do Minimum Bayes Risk Decoding or MBR. The general steps to implement this are:\n",
        "\n",
        "- Take several random samples\n",
        "+ Score each sample against all other samples\n",
        "- Select the one with the highest score\n",
        "\n",
        "You will be building helper functions for these steps in the following sections.\n",
        "\n",
        "With the ability to generate different translations by setting different temperature values you can do what you saw in the lectures and generate a bunch of translations and then determine which one is the best candidate. You will now do this by using the provided `generate_samples` function. This function will return any desired number of candidate translations alongside the log-probability for each one:"
      ],
      "metadata": {
        "id": "2UDrV0CC_vdr"
      }
    },
    {
      "cell_type": "code",
      "source": [
        "def generate_samples(model, text, n_samples=4, temperature=0.6):\n",
        "\n",
        "    samples, log_probs = [], []\n",
        "\n",
        "    # Iterate for n_samples iterations\n",
        "    for _ in range(n_samples):\n",
        "\n",
        "        # Save the logit and the translated tensor\n",
        "        _, logp, sample = translate(model, text, temperature=temperature)\n",
        "\n",
        "        # Save the translated tensors\n",
        "        samples.append(np.squeeze(sample.numpy()).tolist())\n",
        "\n",
        "        # Save the logits\n",
        "        log_probs.append(logp)\n",
        "\n",
        "    return samples, log_probs"
      ],
      "metadata": {
        "id": "KZnXhYV4_zKL"
      },
      "execution_count": null,
      "outputs": []
    },
    {
      "cell_type": "code",
      "source": [
        "samples, log_probs = generate_samples(trained_translator, 'I love languages')\n",
        "\n",
        "for s, l in zip(samples, log_probs):\n",
        "    print(f\"Translated tensor: {s} has logit: {l:.3f}\")"
      ],
      "metadata": {
        "id": "Y0Jo9aUM_3Yj"
      },
      "execution_count": null,
      "outputs": []
    },
    {
      "cell_type": "markdown",
      "source": [
        "## Comparing overlaps\n",
        "\n",
        "Now that you can generate multiple translations it is time to come up with a method to measure the goodness of each one. As you saw in the lectures, one way to achieve this is by comparing each sample against the others.\n",
        "\n",
        "There are several metrics you can use for this purpose, as shown in the lectures and you can try experimenting with any one of these. For this assignment, you will be calculating scores for **unigram overlaps**.\n",
        "\n",
        "One of these metrics is the widely used yet simple [Jaccard similarity](https://en.wikipedia.org/wiki/Jaccard_index) which gets the intersection over union of two sets. The `jaccard_similarity` function returns this metric for any pair of candidate and reference translations:"
      ],
      "metadata": {
        "id": "YclceOncAGZS"
      }
    },
    {
      "cell_type": "code",
      "source": [
        "def jaccard_similarity(candidate, reference):\n",
        "\n",
        "    # Convert the lists to sets to get the unique tokens\n",
        "    candidate_set = set(candidate)\n",
        "    reference_set = set(reference)\n",
        "\n",
        "    # Get the set of tokens common to both candidate and reference\n",
        "    common_tokens = candidate_set.intersection(reference_set)\n",
        "\n",
        "    # Get the set of all tokens found in either candidate or reference\n",
        "    all_tokens = candidate_set.union(reference_set)\n",
        "\n",
        "    # Compute the percentage of overlap (divide the number of common tokens by the number of all tokens)\n",
        "    overlap = len(common_tokens) / len(all_tokens)\n",
        "\n",
        "    return overlap"
      ],
      "metadata": {
        "id": "9eZZZ4qtAHSC"
      },
      "execution_count": null,
      "outputs": []
    },
    {
      "cell_type": "markdown",
      "source": [
        "<a name=\"ex6\"></a>\n",
        "## Exercise 6 - rouge1_similarity\n",
        "\n",
        "Jaccard similarity is good but a more commonly used metric in machine translation is the ROUGE score. For unigrams, this is called ROUGE-1 and as shown in the lectures, you can output the scores for both precision and recall when comparing two samples. To get the final score, you will want to compute the F1-score as given by:\n",
        "\n",
        "$$score = 2* \\frac{(precision * recall)}{(precision + recall)}$$\n",
        "\n",
        "For the implementation of the `rouge1_similarity` function you want to use the [Counter](https://docs.python.org/3/library/collections.html#collections.Counter) class from the Python standard library:"
      ],
      "metadata": {
        "id": "VYTRjmVkAnnr"
      }
    },
    {
      "cell_type": "code",
      "source": [
        "# GRADED FUNCTION: rouge1_similarity\n",
        "def rouge1_similarity(candidate, reference):\n",
        "    \"\"\"Computes the ROUGE 1 score between two token lists\n",
        "\n",
        "    Args:\n",
        "        candidate (list[int]): Tokenized candidate translation\n",
        "        reference (list[int]): Tokenized reference translation\n",
        "\n",
        "    Returns:\n",
        "        float: Overlap between the two token lists\n",
        "    \"\"\"\n",
        "    ### START CODE HERE ###\n",
        "\n",
        "    # Make a frequency table of the candidate and reference tokens\n",
        "    # Hint: use the Counter class (already imported)\n",
        "    candidate_word_counts = Counter(candidate)\n",
        "    reference_word_counts = Counter(reference)\n",
        "\n",
        "    # Initialize overlap at 0\n",
        "    overlap = 0\n",
        "\n",
        "    # Iterate over the tokens in the candidate frequency table\n",
        "    # Hint: Counter is a subclass of dict and you can get the keys\n",
        "    #       out of a dict using the keys method like this: dict.keys()\n",
        "    for token in candidate_word_counts.keys():\n",
        "\n",
        "        # Get the count of the current token in the candidate frequency table\n",
        "        # Hint: You can access the counts of a token as you would access values of a dictionary\n",
        "        token_count_candidate = candidate_word_counts[token]\n",
        "\n",
        "        # Get the count of the current token in the reference frequency table\n",
        "        # Hint: You can access the counts of a token as you would access values of a dictionary\n",
        "        token_count_reference = reference_word_counts[token]\n",
        "\n",
        "        # Update the overlap by getting the minimum between the two token counts above\n",
        "        overlap += min(token_count_candidate, token_count_reference)\n",
        "\n",
        "    # Compute the precision\n",
        "    # Hint: precision = overlap / (number of tokens in candidate list)\n",
        "    precision = overlap / len(candidate)\n",
        "    # Compute the recall\n",
        "    # Hint: recall = overlap / (number of tokens in reference list)\n",
        "    recall = overlap / len(reference)\n",
        "\n",
        "    if precision + recall != 0:\n",
        "        # Compute the Rouge1 Score\n",
        "        # Hint: This is equivalent to the F1 score\n",
        "        f1_score = 2 * (precision * recall) / (precision + recall)\n",
        "\n",
        "        return f1_score\n",
        "\n",
        "    ### END CODE HERE ###\n",
        "\n",
        "    return 0 # If precision + recall = 0 then return 0"
      ],
      "metadata": {
        "id": "GEXDj7gtAm-9"
      },
      "execution_count": null,
      "outputs": []
    },
    {
      "cell_type": "markdown",
      "source": [
        "## Computing the Overall Score\n",
        "\n",
        "\n",
        "You will now build a function to generate the overall score for a particular sample. As mentioned in the lectures, you need to compare each sample with all other samples. For instance, if we generated 30 sentences, we will need to compare sentence 1 to sentences 2 through 30. Then, we compare sentence 2 to sentences 1 and 3 through 30, and so forth. At each step, we get the average score of all comparisons to get the overall score for a particular sample. To illustrate, these will be the steps to generate the scores of a 4-sample list.\n",
        "\n",
        "- Get similarity score between sample 1 and sample 2\n",
        "+ Get similarity score between sample 1 and sample 3\n",
        "- Get similarity score between sample 1 and sample 4\n",
        "+ Get average score of the first 3 steps. This will be the overall score of sample 1\n",
        "- Iterate and repeat until samples 1 to 4 have overall scores.\n",
        "\n",
        "\n",
        "The results will be stored in a dictionary for easy lookups.\n",
        "\n",
        "<a name=\"ex7\"></a>\n",
        "## Exercise 7 - average_overlap\n",
        "\n",
        "Complete the `average_overlap` function below which should implement the process described above:"
      ],
      "metadata": {
        "id": "ffaejmAGA8mG"
      }
    },
    {
      "cell_type": "code",
      "source": [
        "# GRADED FUNCTION: average_overlap\n",
        "def average_overlap(samples, similarity_fn):\n",
        "    \"\"\"Computes the arithmetic mean of each candidate sentence in the samples\n",
        "\n",
        "    Args:\n",
        "        samples (list[list[int]]): Tokenized version of translated sentences\n",
        "        similarity_fn (Function): Similarity function used to compute the overlap\n",
        "\n",
        "    Returns:\n",
        "        dict[int, float]: A dictionary mapping the index of each translation to its score\n",
        "    \"\"\"\n",
        "    # Initialize dictionary\n",
        "    scores = {}\n",
        "\n",
        "    # Iterate through all samples (enumerate helps keep track of indexes)\n",
        "    for index_candidate, candidate in enumerate(samples):\n",
        "\n",
        "        ### START CODE HERE ###\n",
        "\n",
        "        # Initially overlap is zero\n",
        "        overlap = 0\n",
        "\n",
        "        # Iterate through all samples (enumerate helps keep track of indexes)\n",
        "        for index_sample, sample in enumerate(samples):\n",
        "\n",
        "            # Skip if the candidate index is the same as the sample index\n",
        "            if index_candidate == index_sample:\n",
        "                continue\n",
        "\n",
        "            # Get the overlap between candidate and sample using the similarity function\n",
        "            sample_overlap = similarity_fn(candidate, sample)\n",
        "\n",
        "            # Add the sample overlap to the total overlap\n",
        "            overlap += sample_overlap\n",
        "\n",
        "        ### END CODE HERE ###\n",
        "\n",
        "        # Get the score for the candidate by computing the average\n",
        "        score = overlap / (len(samples) - 1)\n",
        "\n",
        "        # Only use 3 decimal points\n",
        "        score = round(score, 3)\n",
        "\n",
        "        # Save the score in the dictionary. use index as the key.\n",
        "        scores[index_candidate] = score\n",
        "\n",
        "    return scores"
      ],
      "metadata": {
        "id": "DRPVVqLHA9dv"
      },
      "execution_count": null,
      "outputs": []
    },
    {
      "cell_type": "markdown",
      "source": [
        "In practice, it is also common to see the weighted mean being used to calculate the overall score instead of just the arithmetic mean. This is implemented in the `weighted_avg_overlap` function below and you can use it in your experiments to see which one will give better results:\n"
      ],
      "metadata": {
        "id": "6AexqKPSBGZp"
      }
    },
    {
      "cell_type": "code",
      "source": [
        "def weighted_avg_overlap(samples, log_probs, similarity_fn):\n",
        "\n",
        "    # Scores dictionary\n",
        "    scores = {}\n",
        "\n",
        "    # Iterate over the samples\n",
        "    for index_candidate, candidate in enumerate(samples):\n",
        "\n",
        "        # Initialize overlap and weighted sum\n",
        "        overlap, weight_sum = 0.0, 0.0\n",
        "\n",
        "        # Iterate over all samples and log probabilities\n",
        "        for index_sample, (sample, logp) in enumerate(zip(samples, log_probs)):\n",
        "\n",
        "            # Skip if the candidate index is the same as the sample index\n",
        "            if index_candidate == index_sample:\n",
        "                continue\n",
        "\n",
        "            # Convert log probability to linear scale\n",
        "            sample_p = float(np.exp(logp))\n",
        "\n",
        "            # Update the weighted sum\n",
        "            weight_sum += sample_p\n",
        "\n",
        "            # Get the unigram overlap between candidate and sample\n",
        "            sample_overlap = similarity_fn(candidate, sample)\n",
        "\n",
        "            # Update the overlap\n",
        "            overlap += sample_p * sample_overlap\n",
        "\n",
        "        # Compute the score for the candidate\n",
        "        score = overlap / weight_sum\n",
        "\n",
        "        # Only use 3 decimal points\n",
        "        score = round(score, 3)\n",
        "\n",
        "        # Save the score in the dictionary. use index as the key.\n",
        "        scores[index_candidate] = score\n",
        "\n",
        "    return scores"
      ],
      "metadata": {
        "id": "N7jjfJ_PBG9H"
      },
      "execution_count": null,
      "outputs": []
    },
    {
      "cell_type": "markdown",
      "source": [
        "## mbr_decode\n",
        "\n",
        "You will now put everything together in the the `mbr_decode` function below. This final step is not graded as this function is just a wrapper around all the cool stuff you have coded so far!\n",
        "\n",
        "You can use it to play around, trying different numbers of samples, temperatures and similarity functions!"
      ],
      "metadata": {
        "id": "FMXywkpMBQJ5"
      }
    },
    {
      "cell_type": "code",
      "source": [
        "def mbr_decode(model, text, n_samples=5, temperature=0.6, similarity_fn=jaccard_similarity):\n",
        "\n",
        "    # Generate samples\n",
        "    samples, log_probs = generate_samples(model, text, n_samples=n_samples, temperature=temperature)\n",
        "\n",
        "    # Compute the overlap scores\n",
        "    scores = weighted_avg_overlap(samples, log_probs, similarity_fn)\n",
        "\n",
        "    # Decode samples\n",
        "    decoded_translations = [tokens_to_text(s, id_to_word).numpy().decode('utf-8') for s in samples]\n",
        "\n",
        "    # Find the key with the highest score\n",
        "    max_score_key = max(scores, key=lambda k: scores[k])\n",
        "\n",
        "    # Get the translation\n",
        "    translation = decoded_translations[max_score_key]\n",
        "\n",
        "    return translation, decoded_translations"
      ],
      "metadata": {
        "id": "ArOTIwUIBQ5i"
      },
      "execution_count": null,
      "outputs": []
    },
    {
      "cell_type": "code",
      "source": [
        "english_sentence = \"I love languages\"\n",
        "\n",
        "translation, candidates = mbr_decode(trained_translator, english_sentence, n_samples=10, temperature=0.6)\n",
        "\n",
        "print(\"Translation candidates:\")\n",
        "for c in candidates:\n",
        "    print(c)\n",
        "\n",
        "print(f\"\\nSelected translation: {translation}\")"
      ],
      "metadata": {
        "id": "tMtXHSmMBUO_"
      },
      "execution_count": null,
      "outputs": []
    }
  ]
}